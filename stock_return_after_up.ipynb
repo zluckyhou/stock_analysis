{
 "cells": [
  {
   "cell_type": "markdown",
   "metadata": {},
   "source": [
    "### 分析大涨后第二天的涨跌率"
   ]
  },
  {
   "cell_type": "code",
   "execution_count": 1,
   "metadata": {},
   "outputs": [],
   "source": [
    "import datetime\n",
    "import pandas as pd\n",
    "import tushare as ts\n",
    "import sys\n",
    "import requests"
   ]
  },
  {
   "cell_type": "code",
   "execution_count": 3,
   "metadata": {},
   "outputs": [],
   "source": [
    "# tushare_token = sys.argv[1]\n",
    "tushare_token = 'c0641675f20fa1b0c0787235e132a60a1242a89bdf953952773d71e5'\n",
    "ts.set_token(tushare_token)\n",
    "\n",
    "pro = ts.pro_api(tushare_token)"
   ]
  },
  {
   "cell_type": "code",
   "execution_count": 4,
   "metadata": {},
   "outputs": [
    {
     "ename": "Exception",
     "evalue": "抱歉，您没有访问该接口的权限，权限的具体详情访问：https://tushare.pro/document/1?doc_id=108。",
     "output_type": "error",
     "traceback": [
      "\u001b[0;31m---------------------------------------------------------------------------\u001b[0m",
      "\u001b[0;31mException\u001b[0m                                 Traceback (most recent call last)",
      "\u001b[0;32m<ipython-input-4-177321c79cd9>\u001b[0m in \u001b[0;36m<module>\u001b[0;34m\u001b[0m\n\u001b[0;32m----> 1\u001b[0;31m \u001b[0mdf\u001b[0m \u001b[0;34m=\u001b[0m \u001b[0mpro\u001b[0m\u001b[0;34m.\u001b[0m\u001b[0mindex_daily\u001b[0m\u001b[0;34m(\u001b[0m\u001b[0mts_code\u001b[0m\u001b[0;34m=\u001b[0m\u001b[0;34m'399006.SZ'\u001b[0m\u001b[0;34m,\u001b[0m \u001b[0mstart_date\u001b[0m\u001b[0;34m=\u001b[0m\u001b[0;34m'20190101'\u001b[0m\u001b[0;34m,\u001b[0m \u001b[0mend_date\u001b[0m\u001b[0;34m=\u001b[0m\u001b[0;34m'20201220'\u001b[0m\u001b[0;34m)\u001b[0m\u001b[0;34m\u001b[0m\u001b[0;34m\u001b[0m\u001b[0m\n\u001b[0m",
      "\u001b[0;32m~/anaconda3/lib/python3.7/site-packages/tushare/pro/client.py\u001b[0m in \u001b[0;36mquery\u001b[0;34m(self, api_name, fields, **kwargs)\u001b[0m\n\u001b[1;32m     42\u001b[0m             \u001b[0mresult\u001b[0m \u001b[0;34m=\u001b[0m \u001b[0mjson\u001b[0m\u001b[0;34m.\u001b[0m\u001b[0mloads\u001b[0m\u001b[0;34m(\u001b[0m\u001b[0mres\u001b[0m\u001b[0;34m.\u001b[0m\u001b[0mtext\u001b[0m\u001b[0;34m)\u001b[0m\u001b[0;34m\u001b[0m\u001b[0;34m\u001b[0m\u001b[0m\n\u001b[1;32m     43\u001b[0m             \u001b[0;32mif\u001b[0m \u001b[0mresult\u001b[0m\u001b[0;34m[\u001b[0m\u001b[0;34m'code'\u001b[0m\u001b[0;34m]\u001b[0m \u001b[0;34m!=\u001b[0m \u001b[0;36m0\u001b[0m\u001b[0;34m:\u001b[0m\u001b[0;34m\u001b[0m\u001b[0;34m\u001b[0m\u001b[0m\n\u001b[0;32m---> 44\u001b[0;31m                 \u001b[0;32mraise\u001b[0m \u001b[0mException\u001b[0m\u001b[0;34m(\u001b[0m\u001b[0mresult\u001b[0m\u001b[0;34m[\u001b[0m\u001b[0;34m'msg'\u001b[0m\u001b[0;34m]\u001b[0m\u001b[0;34m)\u001b[0m\u001b[0;34m\u001b[0m\u001b[0;34m\u001b[0m\u001b[0m\n\u001b[0m\u001b[1;32m     45\u001b[0m             \u001b[0mdata\u001b[0m \u001b[0;34m=\u001b[0m \u001b[0mresult\u001b[0m\u001b[0;34m[\u001b[0m\u001b[0;34m'data'\u001b[0m\u001b[0;34m]\u001b[0m\u001b[0;34m\u001b[0m\u001b[0;34m\u001b[0m\u001b[0m\n\u001b[1;32m     46\u001b[0m             \u001b[0mcolumns\u001b[0m \u001b[0;34m=\u001b[0m \u001b[0mdata\u001b[0m\u001b[0;34m[\u001b[0m\u001b[0;34m'fields'\u001b[0m\u001b[0;34m]\u001b[0m\u001b[0;34m\u001b[0m\u001b[0;34m\u001b[0m\u001b[0m\n",
      "\u001b[0;31mException\u001b[0m: 抱歉，您没有访问该接口的权限，权限的具体详情访问：https://tushare.pro/document/1?doc_id=108。"
     ]
    }
   ],
   "source": [
    "df = pro.index_daily(ts_code='399006.SZ', start_date='20190101', end_date='20201220')"
   ]
  },
  {
   "cell_type": "code",
   "execution_count": 1,
   "metadata": {},
   "outputs": [
    {
     "data": {
      "text/plain": [
       "'xq_a_token=a5133d3d81c51d69e2a2f973b4a68a09ecde3f16;'"
      ]
     },
     "execution_count": 1,
     "metadata": {},
     "output_type": "execute_result"
    }
   ],
   "source": [
    "import pysnowball as ball\n",
    "ball.set_token('xq_a_token=a5133d3d81c51d69e2a2f973b4a68a09ecde3f16;')\n"
   ]
  },
  {
   "cell_type": "code",
   "execution_count": 2,
   "metadata": {},
   "outputs": [
    {
     "data": {
      "text/plain": [
       "{'data': {'quote_name': '浦发银行',\n",
       "  'currency_name': '人民币',\n",
       "  'org_type': 2,\n",
       "  'last_report_name': '2020三季报',\n",
       "  'statuses': None,\n",
       "  'currency': 'CNY',\n",
       "  'list': [{'report_date': 1601395200000,\n",
       "    'report_name': '2020三季报',\n",
       "    'ctime': None,\n",
       "    'ncf_from_oa': [210090000000.0, 4.114797847262376],\n",
       "    'ncf_from_ia': [-181256000000.0, -26.004276451924405],\n",
       "    'ncf_from_fa': [2352000000.0, -0.8966244725738397]},\n",
       "   {'report_date': 1593446400000,\n",
       "    'report_name': '2020中报',\n",
       "    'ctime': None,\n",
       "    'ncf_from_oa': [123337000000.0, 12.96478713768116],\n",
       "    'ncf_from_ia': [-146566000000.0, -0.27140242368514644],\n",
       "    'ncf_from_fa': [59369000000.0, 1.0643624604471644]},\n",
       "   {'report_date': 1585584000000,\n",
       "    'report_name': '2020一季报',\n",
       "    'ctime': None,\n",
       "    'ncf_from_oa': [92378000000.0, -0.5018254571732108],\n",
       "    'ncf_from_ia': [-154797000000.0, 0.12993845375600707],\n",
       "    'ncf_from_fa': [18785000000.0, 1.379955501618123]},\n",
       "   {'report_date': 1577721600000,\n",
       "    'report_name': '2019年报',\n",
       "    'ctime': None,\n",
       "    'ncf_from_oa': [-68628000000.0, 0.7971746069275328],\n",
       "    'ncf_from_ia': [-66973000000.0, -1.2596970014230928],\n",
       "    'ncf_from_fa': [151767000000.0, 0.2872191547288873]},\n",
       "   {'report_date': 1569772800000,\n",
       "    'report_name': '2019三季报',\n",
       "    'ctime': None,\n",
       "    'ncf_from_oa': [-67449000000.0, 0.811648636422025],\n",
       "    'ncf_from_ia': [7249000000.0, -0.9812474615907968],\n",
       "    'ncf_from_fa': [22752000000.0, -0.3321396072445475]},\n",
       "   {'report_date': 1561824000000,\n",
       "    'report_name': '2019中报',\n",
       "    'ctime': None,\n",
       "    'ncf_from_oa': [8832000000.0, 1.0858525963800376],\n",
       "    'ncf_from_ia': [-115279000000.0, -1.6905125578776499],\n",
       "    'ncf_from_fa': [28759000000.0, 1.5777219766974688]},\n",
       "   {'report_date': 1553961600000,\n",
       "    'report_name': '2019一季报',\n",
       "    'ctime': None,\n",
       "    'ncf_from_oa': [185433000000.0, 7.519230769230769],\n",
       "    'ncf_from_ia': [-177915000000.0, -2.868423263531537],\n",
       "    'ncf_from_fa': [-49440000000.0, -0.11358875599702682]},\n",
       "   {'report_date': 1546185600000,\n",
       "    'report_name': '2018年报',\n",
       "    'ctime': None,\n",
       "    'ncf_from_oa': [-338360000000.0, -1.4052945483497188],\n",
       "    'ncf_from_ia': [257889000000.0, 5.822460317460317],\n",
       "    'ncf_from_fa': [117903000000.0, 23.461203319502076]},\n",
       "   {'report_date': 1538236800000,\n",
       "    'report_name': '2018三季报',\n",
       "    'ctime': None,\n",
       "    'ncf_from_oa': [-358102000000.0, -2.639839811351439],\n",
       "    'ncf_from_ia': [386561000000.0, 6.42244623655914],\n",
       "    'ncf_from_fa': [34067000000.0, 1.3753691216007757]},\n",
       "   {'report_date': 1530288000000,\n",
       "    'report_name': '2018中报',\n",
       "    'ctime': None,\n",
       "    'ncf_from_oa': [-102874000000.0, 0.598189246404662],\n",
       "    'ncf_from_ia': [166947000000.0, -0.021750977094674176],\n",
       "    'ncf_from_fa': [-49780000000.0, -4.356720111912192]}]},\n",
       " 'error_code': 0,\n",
       " 'error_description': ''}"
      ]
     },
     "execution_count": 2,
     "metadata": {},
     "output_type": "execute_result"
    }
   ],
   "source": [
    "ball.cash_flow('SH600000')"
   ]
  },
  {
   "cell_type": "code",
   "execution_count": 3,
   "metadata": {},
   "outputs": [],
   "source": [
    "import easyquotation"
   ]
  },
  {
   "cell_type": "code",
   "execution_count": 4,
   "metadata": {},
   "outputs": [],
   "source": [
    "quotation = easyquotation.use('sina')"
   ]
  },
  {
   "cell_type": "code",
   "execution_count": 6,
   "metadata": {},
   "outputs": [],
   "source": [
    "stocks = quotation.market_snapshot(prefix=True)"
   ]
  },
  {
   "cell_type": "code",
   "execution_count": 7,
   "metadata": {},
   "outputs": [
    {
     "data": {
      "text/plain": [
       "5074"
      ]
     },
     "execution_count": 7,
     "metadata": {},
     "output_type": "execute_result"
    }
   ],
   "source": [
    "len(stocks)"
   ]
  },
  {
   "cell_type": "code",
   "execution_count": 9,
   "metadata": {
    "collapsed": true,
    "jupyter": {
     "outputs_hidden": true
    }
   },
   "outputs": [
    {
     "data": {
      "text/plain": [
       "{'sh000001': {'name': '上证指数',\n",
       "  'open': 3351.7901,\n",
       "  'close': 3363.1133,\n",
       "  'now': 3396.5626,\n",
       "  'high': 3397.0066,\n",
       "  'low': 3348.3453,\n",
       "  'buy': 0.0,\n",
       "  'sell': 0.0,\n",
       "  'turnover': 294546895,\n",
       "  'volume': 359094444683.0,\n",
       "  'bid1_volume': 0,\n",
       "  'bid1': 0.0,\n",
       "  'bid2_volume': 0,\n",
       "  'bid2': 0.0,\n",
       "  'bid3_volume': 0,\n",
       "  'bid3': 0.0,\n",
       "  'bid4_volume': 0,\n",
       "  'bid4': 0.0,\n",
       "  'bid5_volume': 0,\n",
       "  'bid5': 0.0,\n",
       "  'ask1_volume': 0,\n",
       "  'ask1': 0.0,\n",
       "  'ask2_volume': 0,\n",
       "  'ask2': 0.0,\n",
       "  'ask3_volume': 0,\n",
       "  'ask3': 0.0,\n",
       "  'ask4_volume': 0,\n",
       "  'ask4': 0.0,\n",
       "  'ask5_volume': 0,\n",
       "  'ask5': 0.0,\n",
       "  'date': '2020-12-25',\n",
       "  'time': '15:02:13'},\n",
       " 'sz000001': {'name': '平安银行',\n",
       "  'open': 18.26,\n",
       "  'close': 18.26,\n",
       "  'now': 18.04,\n",
       "  'high': 18.26,\n",
       "  'low': 17.8,\n",
       "  'buy': 18.04,\n",
       "  'sell': 18.05,\n",
       "  'turnover': 57707733,\n",
       "  'volume': 1038128197.39,\n",
       "  'bid1_volume': 80176,\n",
       "  'bid1': 18.04,\n",
       "  'bid2_volume': 177000,\n",
       "  'bid2': 18.03,\n",
       "  'bid3_volume': 50800,\n",
       "  'bid3': 18.02,\n",
       "  'bid4_volume': 29800,\n",
       "  'bid4': 18.01,\n",
       "  'bid5_volume': 140700,\n",
       "  'bid5': 18.0,\n",
       "  'ask1_volume': 103500,\n",
       "  'ask1': 18.05,\n",
       "  'ask2_volume': 26700,\n",
       "  'ask2': 18.06,\n",
       "  'ask3_volume': 77400,\n",
       "  'ask3': 18.07,\n",
       "  'ask4_volume': 65500,\n",
       "  'ask4': 18.08,\n",
       "  'ask5_volume': 45700,\n",
       "  'ask5': 18.09,\n",
       "  'date': '2020-12-25',\n",
       "  'time': '15:00:03'}}"
      ]
     },
     "execution_count": 9,
     "metadata": {},
     "output_type": "execute_result"
    }
   ],
   "source": [
    "quotation.stocks(['sh000001', 'sz000001'], prefix=True) "
   ]
  },
  {
   "cell_type": "code",
   "execution_count": 10,
   "metadata": {},
   "outputs": [],
   "source": [
    "quotation  = easyquotation.use(\"daykline\")"
   ]
  },
  {
   "cell_type": "code",
   "execution_count": null,
   "metadata": {},
   "outputs": [],
   "source": []
  }
 ],
 "metadata": {
  "kernelspec": {
   "display_name": "Python 3",
   "language": "python",
   "name": "python3"
  },
  "language_info": {
   "codemirror_mode": {
    "name": "ipython",
    "version": 3
   },
   "file_extension": ".py",
   "mimetype": "text/x-python",
   "name": "python",
   "nbconvert_exporter": "python",
   "pygments_lexer": "ipython3",
   "version": "3.7.3"
  }
 },
 "nbformat": 4,
 "nbformat_minor": 4
}
