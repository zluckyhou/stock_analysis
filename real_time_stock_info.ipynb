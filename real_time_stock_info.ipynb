{
 "cells": [
  {
   "cell_type": "code",
   "execution_count": 276,
   "metadata": {},
   "outputs": [],
   "source": [
    "import datetime\n",
    "import pandas as pd\n",
    "import tushare as ts\n",
    "import sys"
   ]
  },
  {
   "cell_type": "code",
   "execution_count": 280,
   "metadata": {},
   "outputs": [],
   "source": [
    "tushare_token = sys.argv[1]\n",
    "\n",
    "pro = ts.pro_api(tushare_token)"
   ]
  },
  {
   "cell_type": "markdown",
   "metadata": {},
   "source": [
    "## 定义股票价格四线预警类"
   ]
  },
  {
   "cell_type": "code",
   "execution_count": 268,
   "metadata": {},
   "outputs": [],
   "source": [
    "class stock_alert(object):\n",
    "    def __init__(self,stock_code):\n",
    "        self.stock_code = stock_code\n",
    "        self.today = datetime.datetime.today().date()\n",
    "    \n",
    "    # 获取实时数据\n",
    "    def get_real_info(self):\n",
    "        df_real = ts.get_realtime_quotes(self.stock_code.split('.')[0])\n",
    "        df_real['price'] = df_real['price'].astype(float)\n",
    "        real_info = df_real.iloc[0].to_dict()\n",
    "        df_real['date'] = pd.to_datetime(df_real['date'])\n",
    "        df_real['date_week'] = df_real['date'].apply(lambda x:x + datetime.timedelta(4 - x.weekday()))\n",
    "        data_real = df_real[['date','date_week','price']]\n",
    "        data_real.columns = ['date','date_week','close']\n",
    "        return real_info,data_real\n",
    "    \n",
    "    # 获取历史数据\n",
    "    def get_history_info(self):\n",
    "        real_info,data_real = self.get_real_info()\n",
    "        \n",
    "        start_date = (self.today+datetime.timedelta(-500)).strftime('%Y%m%d')\n",
    "        end_date = ''.join(real_info['date'].split('-'))\n",
    "        df = ts.pro_bar(ts_code=self.stock_code, adj='qfq', start_date=start_date, end_date=end_date,ma=[5, 20, 50])\n",
    "        df['date'] = df['trade_date'].apply(lambda x:datetime.datetime.strptime(x,'%Y%m%d'))\n",
    "        # 添加当周周五，计算周均线\n",
    "        df['date_week'] = df['date'].apply(lambda x:x + datetime.timedelta(4 - x.weekday()))\n",
    "        data_history = df.sort_values(by=['date'],ascending=False).loc[1:][['date','date_week','close']]\n",
    "        return data_history\n",
    "    \n",
    "    # 合并实时数据与历史数据\n",
    "    def merge_data(self):\n",
    "        real_info,data_real = self.get_real_info()\n",
    "        data_history = self.get_history_info()\n",
    "        data = pd.concat([data_real,data_history])\n",
    "        return data\n",
    "    \n",
    "    # 计算5日、21日、60日、5周线、21周线、60周线\n",
    "    def calc_ma(self):\n",
    "        data = self.merge_data()\n",
    "        data['ma5'] = data['close'][::-1].rolling(5).mean()[::-1]\n",
    "        data['ma21'] = data['close'][::-1].rolling(21).mean()[::-1]\n",
    "        data['ma60'] = data['close'][::-1].rolling(60).mean()[::-1]\n",
    "        ma21_week = data.groupby('date_week')['close'].first().rolling(21).mean().to_frame(name = 'ma21_week').reset_index()\n",
    "        ma60_week = data.groupby('date_week')['close'].first().rolling(60).mean().to_frame(name = 'ma60_week').reset_index()\n",
    "        data_21week = pd.merge(data,ma21_week,on='date_week')\n",
    "        data_60week = pd.merge(data_21week,ma60_week)\n",
    "        return data_60week\n",
    "    \n",
    "    # 输出最新价及4线\n",
    "    def print_info(self):\n",
    "        data_60week = self.calc_ma()\n",
    "        real_info,data_real = self.get_real_info()\n",
    "        ma_info = data_60week.iloc[0].to_dict()\n",
    "        ma_ls = [ma_info['ma21'],ma_info['ma60'],ma_info['ma21_week'],ma_info['ma60_week']]\n",
    "        flag_ls = [float(real_info['price']) >= i for i in ma_ls]\n",
    "        mark_ls = ['最新价在此之上' if flag  else '最新价在此下方' for flag in flag_ls] \n",
    "        print_info = f'''\n",
    "        {real_info[\"time\"]}: {real_info[\"name\"]}({real_info[\"code\"]}), 最新价{real_info[\"price\"]}, 处于{sum(flag_ls)}线上方\n",
    "        - 21日线:{ma_info[\"ma21\"]:.2f}, {mark_ls[0]}\n",
    "        - 60日线: {ma_info[\"ma60\"]:.2f}, {mark_ls[1]}\n",
    "        - 21周线: {ma_info[\"ma21_week\"]:.2f}, {mark_ls[2]}\n",
    "        - 60周线: {ma_info[\"ma60_week\"]:.2f}, {mark_ls[3]}\n",
    "        '''\n",
    "#         print(print_info)\n",
    "        return print_info\n",
    "        "
   ]
  },
  {
   "cell_type": "markdown",
   "metadata": {},
   "source": [
    "## 调用类"
   ]
  },
  {
   "cell_type": "code",
   "execution_count": 274,
   "metadata": {},
   "outputs": [],
   "source": [
    "mystocks = ['300136.SZ','300618.SZ','300496.SZ','603019.SH','603611.SH','600446.SH','603799.SH','300348.SZ','300377.SZ']"
   ]
  },
  {
   "cell_type": "code",
   "execution_count": 275,
   "metadata": {},
   "outputs": [
    {
     "name": "stdout",
     "output_type": "stream",
     "text": [
      "\n",
      "        15:00:03: 信维通信(300136), 最新价43.35, 处于4线上方\n",
      "        - 21日线:38.83, 最新价在此之上\n",
      "        - 60日线: 41.66, 最新价在此之上\n",
      "        - 21周线: 42.61, 最新价在此之上\n",
      "        - 60周线: 35.19, 最新价在此之上\n",
      "        \n",
      "\n",
      "        15:00:03: 寒锐钴业(300618), 最新价55.5, 处于1线上方\n",
      "        - 21日线:49.04, 最新价在此之上\n",
      "        - 60日线: 58.38, 最新价在此下方\n",
      "        - 21周线: 65.24, 最新价在此下方\n",
      "        - 60周线: 58.37, 最新价在此下方\n",
      "        \n",
      "\n",
      "        15:00:03: 中科创达(300496), 最新价63.95, 处于4线上方\n",
      "        - 21日线:57.10, 最新价在此之上\n",
      "        - 60日线: 60.95, 最新价在此之上\n",
      "        - 21周线: 57.18, 最新价在此之上\n",
      "        - 60周线: 42.69, 最新价在此之上\n",
      "        \n",
      "\n",
      "        15:00:00: DR中科曙(603019), 最新价40.83, 处于4线上方\n",
      "        - 21日线:33.74, 最新价在此之上\n",
      "        - 60日线: 33.60, 最新价在此之上\n",
      "        - 21周线: 31.55, 最新价在此之上\n",
      "        - 60周线: 28.26, 最新价在此之上\n",
      "        \n",
      "\n",
      "        15:00:00: 诺力股份(603611), 最新价20.1, 处于4线上方\n",
      "        - 21日线:17.59, 最新价在此之上\n",
      "        - 60日线: 18.41, 最新价在此之上\n",
      "        - 21周线: 17.89, 最新价在此之上\n",
      "        - 60周线: 17.24, 最新价在此之上\n",
      "        \n",
      "\n",
      "        15:00:00: 金证股份(600446), 最新价17.7, 处于1线上方\n",
      "        - 21日线:17.29, 最新价在此之上\n",
      "        - 60日线: 18.56, 最新价在此下方\n",
      "        - 21周线: 19.30, 最新价在此下方\n",
      "        - 60周线: 20.56, 最新价在此下方\n",
      "        \n",
      "\n",
      "        15:00:00: 华友钴业(603799), 最新价37.79, 处于3线上方\n",
      "        - 21日线:33.81, 最新价在此之上\n",
      "        - 60日线: 37.24, 最新价在此之上\n",
      "        - 21周线: 38.11, 最新价在此下方\n",
      "        - 60周线: 29.83, 最新价在此之上\n",
      "        \n",
      "\n",
      "        15:00:03: 长亮科技(300348), 最新价25.94, 处于4线上方\n",
      "        - 21日线:24.75, 最新价在此之上\n",
      "        - 60日线: 24.90, 最新价在此之上\n",
      "        - 21周线: 24.16, 最新价在此之上\n",
      "        - 60周线: 18.98, 最新价在此之上\n",
      "        \n",
      "\n",
      "        15:00:03: 赢时胜(300377), 最新价10.45, 处于1线上方\n",
      "        - 21日线:10.40, 最新价在此之上\n",
      "        - 60日线: 11.12, 最新价在此下方\n",
      "        - 21周线: 11.26, 最新价在此下方\n",
      "        - 60周线: 11.69, 最新价在此下方\n",
      "        \n"
     ]
    }
   ],
   "source": [
    "for stock in mystocks:\n",
    "    mystock = stock_alert(stock)\n",
    "    print(mystock.print_info())"
   ]
  }
 ],
 "metadata": {
  "kernelspec": {
   "display_name": "Python 3",
   "language": "python",
   "name": "python3"
  },
  "language_info": {
   "codemirror_mode": {
    "name": "ipython",
    "version": 3
   },
   "file_extension": ".py",
   "mimetype": "text/x-python",
   "name": "python",
   "nbconvert_exporter": "python",
   "pygments_lexer": "ipython3",
   "version": "3.7.3"
  }
 },
 "nbformat": 4,
 "nbformat_minor": 4
}
