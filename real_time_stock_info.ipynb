{
 "cells": [
  {
   "cell_type": "code",
   "execution_count": 289,
   "metadata": {},
   "outputs": [],
   "source": [
    "import datetime\n",
    "import pandas as pd\n",
    "import tushare as ts\n",
    "import sys\n",
    "import requests"
   ]
  },
  {
   "cell_type": "code",
   "execution_count": 282,
   "metadata": {},
   "outputs": [],
   "source": [
    "tushare_token = sys.argv[1]\n",
    "# tushare_token = 'c0641675f20fa1b0c0787235e132a60a1242a89bdf953952773d71e5'\n",
    "ts.set_token(tushare_token)\n",
    "\n",
    "pro = ts.pro_api(tushare_token)"
   ]
  },
  {
   "cell_type": "markdown",
   "metadata": {},
   "source": [
    "## 定义股票价格四线预警类"
   ]
  },
  {
   "cell_type": "code",
   "execution_count": 329,
   "metadata": {},
   "outputs": [],
   "source": [
    "class stock_alert(object):\n",
    "    def __init__(self,stock_code):\n",
    "        self.stock_code = stock_code\n",
    "        self.today = datetime.datetime.today().date()\n",
    "    \n",
    "    # 获取实时数据\n",
    "    def get_real_info(self):\n",
    "        df_real = ts.get_realtime_quotes(self.stock_code.split('.')[0])\n",
    "        df_real['price'] = df_real['price'].astype(float)\n",
    "        real_info = df_real.iloc[0].to_dict()\n",
    "        df_real['date'] = pd.to_datetime(df_real['date'])\n",
    "        df_real['date_week'] = df_real['date'].apply(lambda x:x + datetime.timedelta(4 - x.weekday()))\n",
    "        data_real = df_real[['date','date_week','price']]\n",
    "        data_real.columns = ['date','date_week','close']\n",
    "        return real_info,data_real\n",
    "    \n",
    "    # 获取历史数据\n",
    "    def get_history_info(self):\n",
    "        real_info,data_real = self.get_real_info()\n",
    "        \n",
    "        start_date = (self.today+datetime.timedelta(-500)).strftime('%Y%m%d')\n",
    "        end_date = ''.join(real_info['date'].split('-'))\n",
    "        df = ts.pro_bar(ts_code=self.stock_code, adj='qfq', start_date=start_date, end_date=end_date,ma=[5, 20, 50])\n",
    "        df['date'] = df['trade_date'].apply(lambda x:datetime.datetime.strptime(x,'%Y%m%d'))\n",
    "        # 添加当周周五，计算周均线\n",
    "        df['date_week'] = df['date'].apply(lambda x:x + datetime.timedelta(4 - x.weekday()))\n",
    "        data_history = df.sort_values(by=['date'],ascending=False).loc[1:][['date','date_week','close']]\n",
    "        return data_history\n",
    "    \n",
    "    # 合并实时数据与历史数据\n",
    "    def merge_data(self):\n",
    "        real_info,data_real = self.get_real_info()\n",
    "        data_history = self.get_history_info()\n",
    "        data = pd.concat([data_real,data_history])\n",
    "        return data\n",
    "    \n",
    "    # 计算5日、21日、60日、5周线、21周线、60周线\n",
    "    def calc_ma(self):\n",
    "        data = self.merge_data()\n",
    "        data['ma5'] = data['close'][::-1].rolling(5).mean()[::-1]\n",
    "        data['ma21'] = data['close'][::-1].rolling(21).mean()[::-1]\n",
    "        data['ma60'] = data['close'][::-1].rolling(60).mean()[::-1]\n",
    "        ma21_week = data.groupby('date_week')['close'].first().rolling(21).mean().to_frame(name = 'ma21_week').reset_index()\n",
    "        ma60_week = data.groupby('date_week')['close'].first().rolling(60).mean().to_frame(name = 'ma60_week').reset_index()\n",
    "        data_21week = pd.merge(data,ma21_week,on='date_week')\n",
    "        data_60week = pd.merge(data_21week,ma60_week)\n",
    "        return data_60week\n",
    "    \n",
    "    # 输出最新价及4线\n",
    "    def print_info(self):\n",
    "        data_60week = self.calc_ma()\n",
    "        real_info,data_real = self.get_real_info()\n",
    "        ma_info = data_60week.iloc[0].to_dict()\n",
    "        ma_ls = [ma_info['ma21'],ma_info['ma60'],ma_info['ma21_week'],ma_info['ma60_week']]\n",
    "        flag_ls = [float(real_info['price']) >= i for i in ma_ls]\n",
    "#         mark_ls = ['upper' if flag  else 'down' for flag in flag_ls] \n",
    "        mark_ls = ['最新价在此上方' if flag  else '最新价在此下方' for flag in flag_ls]\n",
    "        print_info = f'''\n",
    "        {real_info[\"time\"]}: {real_info[\"name\"]}({real_info[\"code\"]}), 最新价{real_info[\"price\"]}, 处于{sum(flag_ls)}线上方\\n\n",
    "        - 21日线:{ma_info[\"ma21\"]:.2f}, {mark_ls[0]}\\n\n",
    "        - 60日线: {ma_info[\"ma60\"]:.2f}, {mark_ls[1]}\\n\n",
    "        - 21周线: {ma_info[\"ma21_week\"]:.2f}, {mark_ls[2]}\\n\n",
    "        - 60周线: {ma_info[\"ma60_week\"]:.2f}, {mark_ls[3]}\\n\n",
    "        '''\n",
    "\n",
    "#         print_info = f'{real_info[\"time\"]}, {real_info[\"name\"]}({real_info[\"code\"]}), 最新价{real_info[\"price\"]}, 处于{sum(flag_ls)}线上方\\n\\n21日线|60日线|21周线|60周线\\n---|---|---|---\\n{ma_info[\"ma21\"]:.2f}|{ma_info[\"ma60\"]:.2f}|{ma_info[\"ma21_week\"]:.2f}|{ma_info[\"ma60_week\"]:.2f}'\n",
    "        return print_info\n",
    "        "
   ]
  },
  {
   "cell_type": "code",
   "execution_count": null,
   "metadata": {},
   "outputs": [],
   "source": []
  },
  {
   "cell_type": "markdown",
   "metadata": {},
   "source": [
    "# 微信推送"
   ]
  },
  {
   "cell_type": "code",
   "execution_count": 283,
   "metadata": {},
   "outputs": [],
   "source": [
    "wechatkey = sys.argv[2]"
   ]
  },
  {
   "cell_type": "code",
   "execution_count": 311,
   "metadata": {},
   "outputs": [],
   "source": [
    "def wechatMsg(msg,wechatkey):\n",
    "#     env_dist = os.environ\n",
    "    # key1 = env_dist.get('wechat_key1')  # John\n",
    "    # key2 = env_dist.get('wechat_key2') # Shin\n",
    "    # keys = [key1,key2]\n",
    "    params = {'text':'股价4线提示','desp':f'<font color=red>红色</font>表示处于最新价下方，<font color=green>绿色</font>表示处于最新价上方\\n\\n{msg}'}\n",
    "    url = f'http://sc.ftqq.com/{wechatkey}.send'\n",
    "    requests.get(url,params = params)"
   ]
  },
  {
   "cell_type": "code",
   "execution_count": 330,
   "metadata": {},
   "outputs": [],
   "source": [
    "mystocks = ['300136.SZ','300618.SZ','300496.SZ','603019.SH','603611.SH','600446.SH','603799.SH','300348.SZ','300377.SZ']\n",
    "\n",
    "msg_ls = []\n",
    "for stock in mystocks:\n",
    "    mystock = stock_alert(stock)\n",
    "    print_info = mystock.print_info()\n",
    "    msg_ls.append(print_info)"
   ]
  },
  {
   "cell_type": "code",
   "execution_count": 331,
   "metadata": {},
   "outputs": [],
   "source": [
    "# header = '时间|名称|最新价|4线位置|21日线|60日线|21周线|60周线\\n---|---|---|---|---|---|---|---'\n",
    "\n",
    "msg = '\\n\\n'.join(msg_ls)"
   ]
  },
  {
   "cell_type": "code",
   "execution_count": null,
   "metadata": {},
   "outputs": [],
   "source": [
    "wechatMsg(msg,wechatkey)"
   ]
  }
 ],
 "metadata": {
  "kernelspec": {
   "display_name": "Python 3",
   "language": "python",
   "name": "python3"
  },
  "language_info": {
   "codemirror_mode": {
    "name": "ipython",
    "version": 3
   },
   "file_extension": ".py",
   "mimetype": "text/x-python",
   "name": "python",
   "nbconvert_exporter": "python",
   "pygments_lexer": "ipython3",
   "version": "3.7.3"
  }
 },
 "nbformat": 4,
 "nbformat_minor": 4
}
